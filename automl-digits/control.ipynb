{
 "cells": [
  {
   "cell_type": "code",
   "execution_count": null,
   "metadata": {
    "execution_event_id": "50e7f8c3-f8e9-4f5a-9c8a-252963ce44c9",
    "last_executed_text": "import os\nimport json\nimport time\nimport logging\nimport azureml\nfrom azureml.core import Workspace, Run, Experiment\nfrom azureml.train.automl import AutoMLConfig\nfrom azureml.core.compute import ComputeTarget, AmlCompute\nfrom azureml.core.compute_target import ComputeTargetException\nfrom azureml.widgets import RunDetails\n\nprint(\"Azure ML SDK Version: \", azureml.core.VERSION)",
    "persistent_id": "43cf8698-c9f7-446b-8c06-0a6fc4f8f56a"
   },
   "outputs": [],
   "source": [
    "import os\n",
    "import json\n",
    "import time\n",
    "import logging\n",
    "import azureml\n",
    "from azureml.core import Workspace, Run, Experiment\n",
    "from azureml.train.automl import AutoMLConfig\n",
    "from azureml.core.compute import ComputeTarget, AmlCompute\n",
    "from azureml.core.compute_target import ComputeTargetException\n",
    "from azureml.widgets import RunDetails\n",
    "\n",
    "print(\"Azure ML SDK Version: \", azureml.core.VERSION)"
   ]
  },
  {
   "cell_type": "code",
   "execution_count": null,
   "metadata": {
    "execution_event_id": "7e1f8195-edaf-46d1-82bd-89b50c946d14",
    "last_executed_text": "# use this code to set up config file\n#subscription_id ='<SUB_ID>'\n#resource_group ='<RESOURCE_GROUP>'\n#workspace_name = '<WORKSPACE>'\n\n#try:\n#    ws = Workspace(subscription_id = subscription_id, resource_group = resource_group, workspace_name = workspace_name)\n#    ws.write_config()\n#    print('Workspace configuration succeeded. You are all set!')\n#except:\n#    print('Workspace not found. TOO MANY ISSUES!!!')\nws = Workspace.from_config()",
    "persistent_id": "2d2ea7bc-bbcc-43fe-8864-e7c114326833"
   },
   "outputs": [],
   "source": [
    "# use this code to set up config file\n",
    "#subscription_id ='<SUB_ID>'\n",
    "#resource_group ='<RESOURCE_GROUP>'\n",
    "#workspace_name = '<WORKSPACE>'\n",
    "\n",
    "#try:\n",
    "#    ws = Workspace(subscription_id = subscription_id, resource_group = resource_group, workspace_name = workspace_name)\n",
    "#    ws.write_config()\n",
    "#    print('Workspace configuration succeeded. You are all set!')\n",
    "#except:\n",
    "#    print('Workspace not found. TOO MANY ISSUES!!!')\n",
    "ws = Workspace.from_config()"
   ]
  },
  {
   "cell_type": "markdown",
   "metadata": {},
   "source": [
    "## Compute environment"
   ]
  },
  {
   "cell_type": "code",
   "execution_count": null,
   "metadata": {
    "execution_event_id": "6bbe1995-3d68-43bd-b627-c85ed62702d5",
    "last_executed_text": "cluster = 'sauron'\ntry:\n    compute = ComputeTarget(workspace=ws, name=cluster)\n    print('Found existing compute target')\nexcept ComputeTargetException:\n    print('Creating a new compute target...')\n    compute_config = AmlCompute.provisioning_configuration(vm_size='STANDARD_NC6', min_nodes=1, max_nodes=6)\n    compute = ComputeTarget.create(ws, cluster, compute_config)\n    compute.wait_for_completion(show_output=True)",
    "persistent_id": "5d26226e-5927-46d5-b247-033607bafa7e"
   },
   "outputs": [],
   "source": [
    "cluster = 'sauron'\n",
    "try:\n",
    "    compute = ComputeTarget(workspace=ws, name=cluster)\n",
    "    print('Found existing compute target')\n",
    "except ComputeTargetException:\n",
    "    print('Creating a new compute target...')\n",
    "    compute_config = AmlCompute.provisioning_configuration(vm_size='STANDARD_NC6', min_nodes=1, max_nodes=6)\n",
    "    compute = ComputeTarget.create(ws, cluster, compute_config)\n",
    "    compute.wait_for_completion(show_output=True)"
   ]
  },
  {
   "cell_type": "markdown",
   "metadata": {},
   "source": [
    "## Automated Machine learning"
   ]
  },
  {
   "cell_type": "code",
   "execution_count": null,
   "metadata": {
    "persistent_id": "7e39fd0b-5013-4db4-94cc-213db75ad8b6"
   },
   "outputs": [],
   "source": [
    "automl_settings = {\n",
    "    \"name\": \"AUTOMLMNIST_{0}\".format(time.time()),\n",
    "    \"iteration_timeout_minutes\": 5,\n",
    "    \"iterations\": 20,\n",
    "    \"n_cross_validations\": 5,\n",
    "    \"primary_metric\": 'AUC_weighted',\n",
    "    \"preprocess\": False,\n",
    "    \"max_concurrent_iterations\": 10,\n",
    "    \"verbosity\": logging.INFO\n",
    "}\n",
    "\n",
    "automl_config = AutoMLConfig(task='classification',\n",
    "                             debug_log='automl_errors.log',\n",
    "                             path='.',\n",
    "                             compute_target = compute,\n",
    "                             data_script='./get_data.py',\n",
    "                             **automl_settings)`"
   ]
  },
  {
   "cell_type": "code",
   "execution_count": null,
   "metadata": {
    "persistent_id": "f6e23753-b0cf-4149-9433-2cd67d987c65"
   },
   "outputs": [],
   "source": [
    "experiment=Experiment(ws, 'mnist_lab')\n",
    "remote_run = experiment.submit(automl_config)"
   ]
  },
  {
   "cell_type": "code",
   "execution_count": null,
   "metadata": {
    "persistent_id": "9d249084-1765-4dc9-a41e-52b5952bb247"
   },
   "outputs": [],
   "source": [
    "#remote_run = [r for r in exp.get_runs() if r.id == 'AutoML_b41af9f3-998c-4f3c-8493-9a076f702631'][0]\n",
    "RunDetails(remote_run).show()"
   ]
  }
 ],
 "metadata": {
  "history": [
   {
    "cell": {
     "executionCount": 1,
     "executionEventId": "50e7f8c3-f8e9-4f5a-9c8a-252963ce44c9",
     "hasError": true,
     "id": "a567ff3e-77ef-47d1-9923-f397a0d47937",
     "outputs": [
      {
       "ename": "ModuleNotFoundError",
       "evalue": "No module named 'azureml.train.automl'",
       "output_type": "error",
       "traceback": [
        "\u001b[0;31m---------------------------------------------------------------------------\u001b[0m",
        "\u001b[0;31mModuleNotFoundError\u001b[0m                       Traceback (most recent call last)",
        "\u001b[0;32m<ipython-input-1-cb5ce76faa68>\u001b[0m in \u001b[0;36m<module>\u001b[0;34m\u001b[0m\n\u001b[1;32m      5\u001b[0m \u001b[0;32mimport\u001b[0m \u001b[0mazureml\u001b[0m\u001b[0;34m\u001b[0m\u001b[0;34m\u001b[0m\u001b[0m\n\u001b[1;32m      6\u001b[0m \u001b[0;32mfrom\u001b[0m \u001b[0mazureml\u001b[0m\u001b[0;34m.\u001b[0m\u001b[0mcore\u001b[0m \u001b[0;32mimport\u001b[0m \u001b[0mWorkspace\u001b[0m\u001b[0;34m,\u001b[0m \u001b[0mRun\u001b[0m\u001b[0;34m,\u001b[0m \u001b[0mExperiment\u001b[0m\u001b[0;34m\u001b[0m\u001b[0;34m\u001b[0m\u001b[0m\n\u001b[0;32m----> 7\u001b[0;31m \u001b[0;32mfrom\u001b[0m \u001b[0mazureml\u001b[0m\u001b[0;34m.\u001b[0m\u001b[0mtrain\u001b[0m\u001b[0;34m.\u001b[0m\u001b[0mautoml\u001b[0m \u001b[0;32mimport\u001b[0m \u001b[0mAutoMLConfig\u001b[0m\u001b[0;34m\u001b[0m\u001b[0;34m\u001b[0m\u001b[0m\n\u001b[0m\u001b[1;32m      8\u001b[0m \u001b[0;32mfrom\u001b[0m \u001b[0mazureml\u001b[0m\u001b[0;34m.\u001b[0m\u001b[0mcore\u001b[0m\u001b[0;34m.\u001b[0m\u001b[0mcompute\u001b[0m \u001b[0;32mimport\u001b[0m \u001b[0mComputeTarget\u001b[0m\u001b[0;34m,\u001b[0m \u001b[0mAmlCompute\u001b[0m\u001b[0;34m\u001b[0m\u001b[0;34m\u001b[0m\u001b[0m\n\u001b[1;32m      9\u001b[0m \u001b[0;32mfrom\u001b[0m \u001b[0mazureml\u001b[0m\u001b[0;34m.\u001b[0m\u001b[0mcore\u001b[0m\u001b[0;34m.\u001b[0m\u001b[0mcompute_target\u001b[0m \u001b[0;32mimport\u001b[0m \u001b[0mComputeTargetException\u001b[0m\u001b[0;34m\u001b[0m\u001b[0;34m\u001b[0m\u001b[0m\n",
        "\u001b[0;31mModuleNotFoundError\u001b[0m: No module named 'azureml.train.automl'"
       ]
      }
     ],
     "persistentId": "43cf8698-c9f7-446b-8c06-0a6fc4f8f56a",
     "text": "import os\nimport json\nimport time\nimport logging\nimport azureml\nfrom azureml.core import Workspace, Run, Experiment\nfrom azureml.train.automl import AutoMLConfig\nfrom azureml.core.compute import ComputeTarget, AmlCompute\nfrom azureml.core.compute_target import ComputeTargetException\nfrom azureml.widgets import RunDetails\n\nprint(\"Azure ML SDK Version: \", azureml.core.VERSION)"
    },
    "executionTime": "2019-11-30T06:11:22.264Z"
   },
   {
    "cell": {
     "executionCount": 2,
     "executionEventId": "7e1f8195-edaf-46d1-82bd-89b50c946d14",
     "hasError": true,
     "id": "5acd8b1d-6b05-4022-98db-8fd9b8e9c7f4",
     "outputs": [
      {
       "ename": "UserErrorException",
       "evalue": "UserErrorException:\n\tMessage: We could not find config.json in: /Users/tania/Documents/github/trallard/aml-demo/automl-digits or in its parent directories. Please provide the full path to the config file or ensure that config.json exists in the parent directories.\n\tInnerException None\n\tErrorResponse \n{\n    \"error\": {\n        \"code\": \"UserError\",\n        \"message\": \"We could not find config.json in: /Users/tania/Documents/github/trallard/aml-demo/automl-digits or in its parent directories. Please provide the full path to the config file or ensure that config.json exists in the parent directories.\"\n    }\n}",
       "output_type": "error",
       "traceback": [
        "\u001b[0;31m---------------------------------------------------------------------------\u001b[0m",
        "\u001b[0;31mUserErrorException\u001b[0m                        Traceback (most recent call last)",
        "\u001b[0;32m<ipython-input-2-1d9701715f71>\u001b[0m in \u001b[0;36m<module>\u001b[0;34m\u001b[0m\n\u001b[1;32m     10\u001b[0m \u001b[0;31m#except:\u001b[0m\u001b[0;34m\u001b[0m\u001b[0;34m\u001b[0m\u001b[0;34m\u001b[0m\u001b[0m\n\u001b[1;32m     11\u001b[0m \u001b[0;31m#    print('Workspace not found. TOO MANY ISSUES!!!')\u001b[0m\u001b[0;34m\u001b[0m\u001b[0;34m\u001b[0m\u001b[0;34m\u001b[0m\u001b[0m\n\u001b[0;32m---> 12\u001b[0;31m \u001b[0mws\u001b[0m \u001b[0;34m=\u001b[0m \u001b[0mWorkspace\u001b[0m\u001b[0;34m.\u001b[0m\u001b[0mfrom_config\u001b[0m\u001b[0;34m(\u001b[0m\u001b[0;34m)\u001b[0m\u001b[0;34m\u001b[0m\u001b[0;34m\u001b[0m\u001b[0m\n\u001b[0m",
        "\u001b[0;32m/anaconda3/lib/python3.7/site-packages/azureml/core/workspace.py\u001b[0m in \u001b[0;36mfrom_config\u001b[0;34m(path, auth, _logger, _file_name)\u001b[0m\n\u001b[1;32m    253\u001b[0m                 raise UserErrorException('We could not find config.json in: {} or in its parent directories. '\n\u001b[1;32m    254\u001b[0m                                          \u001b[0;34m'Please provide the full path to the config file or ensure that '\u001b[0m\u001b[0;34m\u001b[0m\u001b[0;34m\u001b[0m\u001b[0m\n\u001b[0;32m--> 255\u001b[0;31m                                          'config.json exists in the parent directories.'.format(normalized_path))\n\u001b[0m\u001b[1;32m    256\u001b[0m \u001b[0;34m\u001b[0m\u001b[0m\n\u001b[1;32m    257\u001b[0m         \u001b[0msubscription_id\u001b[0m\u001b[0;34m,\u001b[0m \u001b[0mresource_group\u001b[0m\u001b[0;34m,\u001b[0m \u001b[0mworkspace_name\u001b[0m \u001b[0;34m=\u001b[0m \u001b[0mproject_info\u001b[0m\u001b[0;34m.\u001b[0m\u001b[0mget_workspace_info\u001b[0m\u001b[0;34m(\u001b[0m\u001b[0mfound_path\u001b[0m\u001b[0;34m)\u001b[0m\u001b[0;34m\u001b[0m\u001b[0;34m\u001b[0m\u001b[0m\n",
        "\u001b[0;31mUserErrorException\u001b[0m: UserErrorException:\n\tMessage: We could not find config.json in: /Users/tania/Documents/github/trallard/aml-demo/automl-digits or in its parent directories. Please provide the full path to the config file or ensure that config.json exists in the parent directories.\n\tInnerException None\n\tErrorResponse \n{\n    \"error\": {\n        \"code\": \"UserError\",\n        \"message\": \"We could not find config.json in: /Users/tania/Documents/github/trallard/aml-demo/automl-digits or in its parent directories. Please provide the full path to the config file or ensure that config.json exists in the parent directories.\"\n    }\n}"
       ]
      }
     ],
     "persistentId": "2d2ea7bc-bbcc-43fe-8864-e7c114326833",
     "text": "# use this code to set up config file\n#subscription_id ='<SUB_ID>'\n#resource_group ='<RESOURCE_GROUP>'\n#workspace_name = '<WORKSPACE>'\n\n#try:\n#    ws = Workspace(subscription_id = subscription_id, resource_group = resource_group, workspace_name = workspace_name)\n#    ws.write_config()\n#    print('Workspace configuration succeeded. You are all set!')\n#except:\n#    print('Workspace not found. TOO MANY ISSUES!!!')\nws = Workspace.from_config()"
    },
    "executionTime": "2019-11-30T06:11:32.667Z"
   },
   {
    "cell": {
     "executionCount": 3,
     "executionEventId": "6bbe1995-3d68-43bd-b627-c85ed62702d5",
     "hasError": true,
     "id": "56b18eb6-40b5-4bda-9aeb-7c1e0b5c3281",
     "outputs": [
      {
       "ename": "NameError",
       "evalue": "name 'ComputeTargetException' is not defined",
       "output_type": "error",
       "traceback": [
        "\u001b[0;31m---------------------------------------------------------------------------\u001b[0m",
        "\u001b[0;31mNameError\u001b[0m                                 Traceback (most recent call last)",
        "\u001b[0;32m<ipython-input-3-1eb584c9689b>\u001b[0m in \u001b[0;36m<module>\u001b[0;34m\u001b[0m\n\u001b[1;32m      2\u001b[0m \u001b[0;32mtry\u001b[0m\u001b[0;34m:\u001b[0m\u001b[0;34m\u001b[0m\u001b[0;34m\u001b[0m\u001b[0m\n\u001b[0;32m----> 3\u001b[0;31m     \u001b[0mcompute\u001b[0m \u001b[0;34m=\u001b[0m \u001b[0mComputeTarget\u001b[0m\u001b[0;34m(\u001b[0m\u001b[0mworkspace\u001b[0m\u001b[0;34m=\u001b[0m\u001b[0mws\u001b[0m\u001b[0;34m,\u001b[0m \u001b[0mname\u001b[0m\u001b[0;34m=\u001b[0m\u001b[0mcluster\u001b[0m\u001b[0;34m)\u001b[0m\u001b[0;34m\u001b[0m\u001b[0;34m\u001b[0m\u001b[0m\n\u001b[0m\u001b[1;32m      4\u001b[0m     \u001b[0mprint\u001b[0m\u001b[0;34m(\u001b[0m\u001b[0;34m'Found existing compute target'\u001b[0m\u001b[0;34m)\u001b[0m\u001b[0;34m\u001b[0m\u001b[0;34m\u001b[0m\u001b[0m\n",
        "\u001b[0;31mNameError\u001b[0m: name 'ComputeTarget' is not defined",
        "\nDuring handling of the above exception, another exception occurred:\n",
        "\u001b[0;31mNameError\u001b[0m                                 Traceback (most recent call last)",
        "\u001b[0;32m<ipython-input-3-1eb584c9689b>\u001b[0m in \u001b[0;36m<module>\u001b[0;34m\u001b[0m\n\u001b[1;32m      3\u001b[0m     \u001b[0mcompute\u001b[0m \u001b[0;34m=\u001b[0m \u001b[0mComputeTarget\u001b[0m\u001b[0;34m(\u001b[0m\u001b[0mworkspace\u001b[0m\u001b[0;34m=\u001b[0m\u001b[0mws\u001b[0m\u001b[0;34m,\u001b[0m \u001b[0mname\u001b[0m\u001b[0;34m=\u001b[0m\u001b[0mcluster\u001b[0m\u001b[0;34m)\u001b[0m\u001b[0;34m\u001b[0m\u001b[0;34m\u001b[0m\u001b[0m\n\u001b[1;32m      4\u001b[0m     \u001b[0mprint\u001b[0m\u001b[0;34m(\u001b[0m\u001b[0;34m'Found existing compute target'\u001b[0m\u001b[0;34m)\u001b[0m\u001b[0;34m\u001b[0m\u001b[0;34m\u001b[0m\u001b[0m\n\u001b[0;32m----> 5\u001b[0;31m \u001b[0;32mexcept\u001b[0m \u001b[0mComputeTargetException\u001b[0m\u001b[0;34m:\u001b[0m\u001b[0;34m\u001b[0m\u001b[0;34m\u001b[0m\u001b[0m\n\u001b[0m\u001b[1;32m      6\u001b[0m     \u001b[0mprint\u001b[0m\u001b[0;34m(\u001b[0m\u001b[0;34m'Creating a new compute target...'\u001b[0m\u001b[0;34m)\u001b[0m\u001b[0;34m\u001b[0m\u001b[0;34m\u001b[0m\u001b[0m\n\u001b[1;32m      7\u001b[0m     \u001b[0mcompute_config\u001b[0m \u001b[0;34m=\u001b[0m \u001b[0mAmlCompute\u001b[0m\u001b[0;34m.\u001b[0m\u001b[0mprovisioning_configuration\u001b[0m\u001b[0;34m(\u001b[0m\u001b[0mvm_size\u001b[0m\u001b[0;34m=\u001b[0m\u001b[0;34m'STANDARD_NC6'\u001b[0m\u001b[0;34m,\u001b[0m \u001b[0mmin_nodes\u001b[0m\u001b[0;34m=\u001b[0m\u001b[0;36m1\u001b[0m\u001b[0;34m,\u001b[0m \u001b[0mmax_nodes\u001b[0m\u001b[0;34m=\u001b[0m\u001b[0;36m6\u001b[0m\u001b[0;34m)\u001b[0m\u001b[0;34m\u001b[0m\u001b[0;34m\u001b[0m\u001b[0m\n",
        "\u001b[0;31mNameError\u001b[0m: name 'ComputeTargetException' is not defined"
       ]
      }
     ],
     "persistentId": "5d26226e-5927-46d5-b247-033607bafa7e",
     "text": "cluster = 'sauron'\ntry:\n    compute = ComputeTarget(workspace=ws, name=cluster)\n    print('Found existing compute target')\nexcept ComputeTargetException:\n    print('Creating a new compute target...')\n    compute_config = AmlCompute.provisioning_configuration(vm_size='STANDARD_NC6', min_nodes=1, max_nodes=6)\n    compute = ComputeTarget.create(ws, cluster, compute_config)\n    compute.wait_for_completion(show_output=True)"
    },
    "executionTime": "2019-11-30T06:11:59.536Z"
   }
  ],
  "kernelspec": {
   "display_name": "Python 3",
   "language": "python",
   "name": "python3"
  },
  "language_info": {
   "codemirror_mode": {
    "name": "ipython",
    "version": 3
   },
   "file_extension": ".py",
   "mimetype": "text/x-python",
   "name": "python",
   "nbconvert_exporter": "python",
   "pygments_lexer": "ipython3",
   "version": "3.7.3"
  },
  "uuid": "718b8b54-6203-45a3-a75e-186ecf8ac562"
 },
 "nbformat": 4,
 "nbformat_minor": 4
}
